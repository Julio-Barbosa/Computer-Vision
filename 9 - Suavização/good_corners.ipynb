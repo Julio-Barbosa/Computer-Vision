{
 "cells": [
  {
   "cell_type": "markdown",
   "metadata": {},
   "source": [
    "# Extração de características - Detectção de cantos\n",
    "\n",
    "### Teoria\n",
    "\n",
    "No último capítulo, vimos o Harris Corner Detector. Mais tarde, em 1994, J. Shi e C. Tomasi fizeram uma pequena modificação em seu artigo Good Features to Track, que mostra melhores resultados em comparação com o Harris Corner Detector. A função de pontuação no Harris Corner Detector foi dada por:\n",
    "\n",
    "$R = \\lambda_1 \\lambda_2 - k (\\lambda_1 + \\lambda_2)^2$\n",
    "\n",
    "Em vez disso, Shi-Tomasi propôs:\n",
    "\n",
    "$R = min(\\lambda_1, \\lambda_2)$\n",
    "\n",
    "Se for um valor maior que um limite, será considerado como um canto. Se nós plotamos isso em $\\lambda_1 - \\lambda_2$ espaço como fizemos em Harris Corner Detector, obtemos uma imagem como abaixo: \n",
    "\n",
    "![alt text](https://docs.opencv.org/3.0-beta/_images/shitomasi_space.png \"Logo Title Text 1\")\n",
    "\n",
    "[logo]: https://docs.opencv.org/3.0-beta/_images/shitomasi_space.png \"Logo Title Text 2\"\n",
    "\n",
    "\n",
    "Da figura, você pode ver isso apenas quando $\\lambda_1$ e $\\lambda_2$ estão acima de um valor mínimo, $\\lambda_{min}$ , é considerado como um canto (região verde).\n",
    "\n",
    "Importando as bibliotecas e lendo a imagem em tons de cinza"
   ]
  },
  {
   "cell_type": "code",
   "execution_count": 2,
   "metadata": {},
   "outputs": [],
   "source": [
    "import cv2\n",
    "import numpy as np\n",
    "from matplotlib import pyplot as plt\n",
    "%notebook inline\n",
    "\n",
    "img = cv2.imread('hospital2.jpg')\n",
    "gray = cv2.cvtColor(img,cv2.COLOR_BGR2GRAY)"
   ]
  },
  {
   "cell_type": "markdown",
   "metadata": {},
   "source": [
    "FUNÇÃO **cv.goodFeaturesToTrack(img, n, qual, k)**\n",
    "\n",
    "Entrada: \n",
    "            1. img =  Imagem de entrada em tons de cinza\n",
    "            2. n = número de cantos que deseja-se encontrar.\n",
    "            3. qual = nível de qualidade (valor entre 0 e 1).\n",
    "            4. k = distância euclidiana mínima entre os cantos detectados.\n",
    "            \n",
    "Saída: \n",
    "            5. Pontos de detecção de canto da imagem.\n"
   ]
  },
  {
   "cell_type": "code",
   "execution_count": 4,
   "metadata": {},
   "outputs": [
    {
     "ename": "error",
     "evalue": "OpenCV(4.9.0) :-1: error: (-5:Bad argument) in function 'circle'\n> Overload resolution failed:\n>  - Can't parse 'center'. Sequence item with index 0 has a wrong type\n>  - Can't parse 'center'. Sequence item with index 0 has a wrong type\n",
     "output_type": "error",
     "traceback": [
      "\u001b[1;31m---------------------------------------------------------------------------\u001b[0m",
      "\u001b[1;31merror\u001b[0m                                     Traceback (most recent call last)",
      "Cell \u001b[1;32mIn[4], line 5\u001b[0m\n\u001b[0;32m      3\u001b[0m \u001b[38;5;28;01mfor\u001b[39;00m item \u001b[38;5;129;01min\u001b[39;00m corners:\n\u001b[0;32m      4\u001b[0m     x,y \u001b[38;5;241m=\u001b[39m item[\u001b[38;5;241m0\u001b[39m]\n\u001b[1;32m----> 5\u001b[0m     \u001b[43mcv2\u001b[49m\u001b[38;5;241;43m.\u001b[39;49m\u001b[43mcircle\u001b[49m\u001b[43m(\u001b[49m\u001b[43mimg\u001b[49m\u001b[43m,\u001b[49m\u001b[43m \u001b[49m\u001b[43m(\u001b[49m\u001b[43mx\u001b[49m\u001b[43m,\u001b[49m\u001b[43my\u001b[49m\u001b[43m)\u001b[49m\u001b[43m,\u001b[49m\u001b[43m \u001b[49m\u001b[38;5;241;43m4\u001b[39;49m\u001b[43m,\u001b[49m\u001b[43m \u001b[49m\u001b[43m(\u001b[49m\u001b[38;5;241;43m0\u001b[39;49m\u001b[43m,\u001b[49m\u001b[38;5;241;43m0\u001b[39;49m\u001b[43m,\u001b[49m\u001b[38;5;241;43m255\u001b[39;49m\u001b[43m)\u001b[49m\u001b[43m,\u001b[49m\u001b[43m \u001b[49m\u001b[38;5;241;43m-\u001b[39;49m\u001b[38;5;241;43m1\u001b[39;49m\u001b[43m)\u001b[49m\n\u001b[0;32m      7\u001b[0m fig \u001b[38;5;241m=\u001b[39m plt\u001b[38;5;241m.\u001b[39mfigure(figsize\u001b[38;5;241m=\u001b[39m(\u001b[38;5;241m10\u001b[39m,\u001b[38;5;241m8\u001b[39m))\n\u001b[0;32m      8\u001b[0m plt\u001b[38;5;241m.\u001b[39mimshow(img)\n",
      "\u001b[1;31merror\u001b[0m: OpenCV(4.9.0) :-1: error: (-5:Bad argument) in function 'circle'\n> Overload resolution failed:\n>  - Can't parse 'center'. Sequence item with index 0 has a wrong type\n>  - Can't parse 'center'. Sequence item with index 0 has a wrong type\n"
     ]
    }
   ],
   "source": [
    "corners = cv2.goodFeaturesToTrack(gray, 10, 0.05, 0.25)\n",
    "\n",
    "for item in corners:\n",
    "    x,y = item[0]\n",
    "    cv2.circle(img, (x,y), 4, (0,0,255), -1)\n",
    "    \n",
    "fig = plt.figure(figsize=(10,8))\n",
    "plt.imshow(img)\n",
    "plt.show()"
   ]
  },
  {
   "cell_type": "code",
   "execution_count": null,
   "metadata": {},
   "outputs": [],
   "source": []
  }
 ],
 "metadata": {
  "kernelspec": {
   "display_name": "Python 3",
   "language": "python",
   "name": "python3"
  },
  "language_info": {
   "codemirror_mode": {
    "name": "ipython",
    "version": 3
   },
   "file_extension": ".py",
   "mimetype": "text/x-python",
   "name": "python",
   "nbconvert_exporter": "python",
   "pygments_lexer": "ipython3",
   "version": "3.9.13"
  }
 },
 "nbformat": 4,
 "nbformat_minor": 2
}
