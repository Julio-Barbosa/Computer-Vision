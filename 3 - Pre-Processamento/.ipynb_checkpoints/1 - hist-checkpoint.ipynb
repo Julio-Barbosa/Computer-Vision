{
 "cells": [
  {
   "cell_type": "markdown",
   "metadata": {},
   "source": [
    "# Histogramas da imagem\n",
    "\n",
    "O histograma de uma imagem é a distribuição da frequência dos níveis de cinza em relação ao número de amostras.\n",
    "Essa distribuição nos fonece informaçõe sobre a qualidade da imagem, principalmente no que diz respeito à intensidade luminosa e contraste \n",
    "\n"
   ]
  },
  {
   "cell_type": "markdown",
   "metadata": {},
   "source": [
    "Importando as bibliotecas"
   ]
  },
  {
   "cell_type": "code",
   "execution_count": null,
   "metadata": {},
   "outputs": [],
   "source": []
  },
  {
   "cell_type": "markdown",
   "metadata": {},
   "source": [
    "Leitura da Imagem"
   ]
  },
  {
   "cell_type": "code",
   "execution_count": null,
   "metadata": {},
   "outputs": [],
   "source": []
  },
  {
   "cell_type": "markdown",
   "metadata": {},
   "source": [
    "Mostrar a imagem"
   ]
  },
  {
   "cell_type": "code",
   "execution_count": null,
   "metadata": {},
   "outputs": [],
   "source": []
  },
  {
   "cell_type": "markdown",
   "metadata": {},
   "source": [
    "### Função hist\n",
    "\n",
    "* FUNÇÃO HIST(img, Num1, Intervalo)\n",
    "* Entrada:      \n",
    "                1.Img = Imagem com a qual queremos trabalhar.\n",
    "                2. Num1 = Número de elementos distintos que podem ser representados.\n",
    "                3. Intervalo = Intervalo entre os elementos.\n",
    "* Saída: Gráfico representando o histograma da imagem\n",
    "\n",
    "### Função ravel\n",
    "* Função RAVEL(array)\n",
    "* Entrada: \n",
    "            1. Img = Matriz de entrada, no caso a imagem. Os elementos em um são lidos na ordem especificada por ordem e empacotados como uma matriz 1-D.\n",
    "\n",
    "* Saída: retorna uma matriz plana contígua (matriz 1D com todos os elementos da matriz de entrada e com o mesmo tipo que ela). \n"
   ]
  },
  {
   "cell_type": "code",
   "execution_count": null,
   "metadata": {},
   "outputs": [],
   "source": []
  }
 ],
 "metadata": {
  "kernelspec": {
   "display_name": "Python 3",
   "language": "python",
   "name": "python3"
  },
  "language_info": {
   "codemirror_mode": {
    "name": "ipython",
    "version": 3
   },
   "file_extension": ".py",
   "mimetype": "text/x-python",
   "name": "python",
   "nbconvert_exporter": "python",
   "pygments_lexer": "ipython3",
   "version": "3.7.2"
  }
 },
 "nbformat": 4,
 "nbformat_minor": 2
}
