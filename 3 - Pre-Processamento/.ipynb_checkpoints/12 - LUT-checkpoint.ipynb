{
 "cells": [
  {
   "cell_type": "markdown",
   "id": "99aec776",
   "metadata": {},
   "source": [
    "# LUT - Look Up Table\n",
    "\n",
    "\n",
    "## Tabela de Pesquisa:\n",
    "- É uma forma de aplicar transformações em uma imagem de uma maneira rápida e eficiente. A ideia é criar uma tabela de valores pré-calculados e usá-los para mapear cada pixel da imagem para um novo valor.\n",
    "- Usado para ajustar o contraste, mudar a cor, aplicar filtros e etc.\n",
    "\n",
    "## Funcionamento\n",
    "A LUT funciona da seguinte maneira:\n",
    "\n",
    "**Criação da tabela**: A primeira etapa é criar a tabela de pesquisa. \n",
    "\n",
    "**Aplicação da tabela**: Depois que a tabela é criada, ela é usada para mapear cada pixel da imagem para um novo valor.\n",
    "\n",
    "**Resultado final**: A imagem resultante terá uma aparência diferente da imagem original, dependendo da tabela usada.\n",
    "\n",
    "## Função do Opencv\n",
    "\n",
    "`cv2.LUT(img, Tabela)`\n",
    "\n",
    "\n",
    "onde:\n",
    "\n",
    "    - img = Imagem original\n",
    "    \n",
    "    - Tabela = Tabela de pesquisa\n",
    "\n",
    "A função retorna a imagem resultante após a aplicação da tabela.\n",
    "\n",
    "Em resumo, a LUT é uma ferramenta poderosa no OpenCV que permite ajustar ou mudar facilmente a aparência de uma imagem de maneira rápida e eficiente."
   ]
  },
  {
   "cell_type": "code",
   "execution_count": null,
   "id": "2035e5f3",
   "metadata": {},
   "outputs": [],
   "source": [
    "import cv2\n",
    "import matplotlib.pyplot as plt\n",
    "\n",
    "img = cv2.imread(\"1.jpg\")\n",
    "plt.imshow(img)\n",
    "plt.show()"
   ]
  },
  {
   "cell_type": "markdown",
   "id": "502d951b",
   "metadata": {},
   "source": [
    "## Tabela de pesquisa para aumentar o contraste da imagem."
   ]
  },
  {
   "cell_type": "code",
   "execution_count": null,
   "id": "ea1f2f3d",
   "metadata": {},
   "outputs": [],
   "source": [
    "import numpy as np\n",
    "\n",
    "# Crie uma LUT para aumentar o contraste\n",
    "lut = np.zeros(256, dtype = \"uint8\")\n",
    "for i in range(256):\n",
    "    if i < 200:\n",
    "        lut[i] = 0\n",
    "    else:\n",
    "        lut[i] = 255\n",
    "\n",
    "# Aplique a LUT na imagem\n",
    "img_contrast = cv2.LUT(img, lut)\n",
    "\n",
    "# Exibir a imagem original e a imagem com contraste aumentado\n",
    "plt.figure(figsize=(15, 8))\n",
    "plt.subplot(1, 2, 1)\n",
    "plt.imshow(img)\n",
    "plt.title(\"Original\")\n",
    "plt.subplot(1, 2, 2)\n",
    "plt.imshow(img_contrast)\n",
    "plt.title(\"Contraste Aumentado\")\n",
    "plt.show()\n"
   ]
  },
  {
   "cell_type": "markdown",
   "id": "64dd8962",
   "metadata": {},
   "source": [
    "## Tabela de pesquisa para alterar a cor da imagem."
   ]
  },
  {
   "cell_type": "code",
   "execution_count": null,
   "id": "0b00a453",
   "metadata": {},
   "outputs": [],
   "source": [
    "# Crie uma LUT para alterar a cor da imagem para azul\n",
    "lut = np.zeros((256, 1, 3), dtype = \"uint8\")\n",
    "lut[:, 0, 2] = np.arange(256)\n",
    "\n",
    "# Aplique a LUT na imagem\n",
    "img_blue = cv2.LUT(img, lut)\n",
    "\n",
    "# Exibir a imagem original e a imagem com cor alterada\n",
    "plt.figure(figsize=(15, 8))\n",
    "plt.subplot(1, 2, 1)\n",
    "plt.imshow(img)\n",
    "plt.title(\"Original\")\n",
    "plt.subplot(1, 2, 2)\n",
    "plt.imshow(img_blue)\n",
    "plt.title(\"Azul\")\n",
    "plt.show()\n"
   ]
  },
  {
   "cell_type": "code",
   "execution_count": null,
   "id": "03970da5",
   "metadata": {},
   "outputs": [],
   "source": [
    "# Crie uma LUT para alterar a cor da imagem para azul\n",
    "lut = np.zeros((256, 1, 3), dtype = \"uint8\")\n",
    "lut[:, 0, 1] = np.arange(256)\n",
    "\n",
    "# Aplique a LUT na imagem\n",
    "img_blue = cv2.LUT(img, lut)\n",
    "\n",
    "# Exibir a imagem original e a imagem com cor alterada\n",
    "plt.figure(figsize=(15, 8))\n",
    "plt.subplot(1, 2, 1)\n",
    "plt.imshow(img)\n",
    "plt.title(\"Original\")\n",
    "plt.subplot(1, 2, 2)\n",
    "plt.imshow(img_blue)\n",
    "plt.title(\"Verde\")\n",
    "plt.show()"
   ]
  },
  {
   "cell_type": "code",
   "execution_count": null,
   "id": "79d36940",
   "metadata": {},
   "outputs": [],
   "source": [
    "# Crie uma LUT para alterar a cor da imagem para azul\n",
    "lut = np.zeros((256, 1, 3), dtype = \"uint8\")\n",
    "lut[:, 0, 0] = np.arange(256)\n",
    "\n",
    "# Aplique a LUT na imagem\n",
    "img_blue = cv2.LUT(img, lut)\n",
    "\n",
    "# Exibir a imagem original e a imagem com cor alterada\n",
    "plt.figure(figsize=(15, 8))\n",
    "plt.subplot(1, 2, 1)\n",
    "plt.imshow(img)\n",
    "plt.title(\"Original\")\n",
    "plt.subplot(1, 2, 2)\n",
    "plt.imshow(img_blue)\n",
    "plt.title(\"Vermelho\")\n",
    "plt.show()"
   ]
  },
  {
   "cell_type": "code",
   "execution_count": null,
   "id": "55c02b49",
   "metadata": {},
   "outputs": [],
   "source": []
  }
 ],
 "metadata": {
  "kernelspec": {
   "display_name": "Python 3 (ipykernel)",
   "language": "python",
   "name": "python3"
  },
  "language_info": {
   "codemirror_mode": {
    "name": "ipython",
    "version": 3
   },
   "file_extension": ".py",
   "mimetype": "text/x-python",
   "name": "python",
   "nbconvert_exporter": "python",
   "pygments_lexer": "ipython3",
   "version": "3.9.12"
  },
  "vscode": {
   "interpreter": {
    "hash": "11938c6bc6919ae2720b4d5011047913343b08a43b18698fd82dedb0d4417594"
   }
  }
 },
 "nbformat": 4,
 "nbformat_minor": 5
}
